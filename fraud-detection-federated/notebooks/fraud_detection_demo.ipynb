{
 "cells": [
  {
   "cell_type": "code",
   "execution_count": null,
   "id": "aa4689a2",
   "metadata": {},
   "outputs": [],
   "source": [
    "import pandas as pd\n",
    "import matplotlib.pyplot as plt\n",
    "import seaborn as sns"
   ]
  },
  {
   "cell_type": "code",
   "execution_count": null,
   "id": "19667601",
   "metadata": {},
   "outputs": [],
   "source": [
    "# Load dataset\n",
    "df = pd.read_csv(\"../data/synthetic_data.csv\")"
   ]
  },
  {
   "cell_type": "code",
   "execution_count": null,
   "id": "8c7ed96a",
   "metadata": {},
   "outputs": [],
   "source": [
    "# Basic distribution summary\n",
    "total = len(df)\n",
    "fraud = df['is_fraud'].sum()\n",
    "legit = total - fraud\n",
    "fraud_pct = (fraud / total) * 100"
   ]
  },
  {
   "cell_type": "code",
   "execution_count": null,
   "id": "7f130cbe",
   "metadata": {},
   "outputs": [],
   "source": [
    "print(f\"Total transactions: {total}\")\n",
    "print(f\"Fraudulent: {fraud} ({fraud_pct:.2f}%)\")\n",
    "print(f\"Legit: {legit} ({100 - fraud_pct:.2f}%)\")"
   ]
  },
  {
   "cell_type": "code",
   "execution_count": null,
   "id": "5b84ff7b",
   "metadata": {},
   "outputs": [],
   "source": [
    "# Bar chart for fraud distribution\n",
    "plt.figure(figsize=(6, 4))\n",
    "df[\"is_fraud\"].value_counts().sort_index().plot(kind='bar', color=['green', 'red'])\n",
    "plt.title(\"Fraud vs Legitimate Transactions\")\n",
    "plt.xticks([0, 1], ['Legit', 'Fraud'], rotation=0)\n",
    "plt.ylabel(\"Count\")\n",
    "plt.grid(True, axis='y')\n",
    "plt.tight_layout()\n",
    "plt.show()"
   ]
  },
  {
   "cell_type": "code",
   "execution_count": null,
   "id": "1145c6a0",
   "metadata": {},
   "outputs": [],
   "source": [
    "# Pie chart\n",
    "plt.figure(figsize=(5, 5))\n",
    "df[\"is_fraud\"].value_counts().plot.pie(labels=['Legit', 'Fraud'], autopct='%1.1f%%', colors=['green', 'red'], startangle=90)\n",
    "plt.title(\"Fraud Distribution\")\n",
    "plt.ylabel(\"\")\n",
    "plt.tight_layout()\n",
    "plt.show()"
   ]
  },
  {
   "cell_type": "code",
   "execution_count": null,
   "id": "dba3e79d",
   "metadata": {},
   "outputs": [],
   "source": [
    "# Annotated bar chart\n",
    "counts = df[\"is_fraud\"].value_counts().sort_index()\n",
    "plt.figure(figsize=(6, 4))\n",
    "bars = plt.bar(['Legit', 'Fraud'], counts, color=['green', 'red'])\n",
    "for bar in bars:\n",
    "    yval = bar.get_height()\n",
    "    plt.text(bar.get_x() + bar.get_width()/2.0, yval + 2, int(yval), ha='center', va='bottom')\n",
    "plt.title(\"Annotated Fraud Distribution\")\n",
    "plt.ylabel(\"Transaction Count\")\n",
    "plt.tight_layout()\n",
    "plt.show()"
   ]
  },
  {
   "cell_type": "code",
   "execution_count": null,
   "id": "dc7f81e4",
   "metadata": {},
   "outputs": [],
   "source": [
    "# Histogram of amount vs fraud\n",
    "plt.figure(figsize=(8, 4))\n",
    "sns.histplot(data=df, x='amount', hue='is_fraud', bins=30, palette={0: 'green', 1: 'red'}, kde=True, element='step')\n",
    "plt.title(\"Transaction Amount Distribution by Fraud Status\")\n",
    "plt.xlabel(\"Amount\")\n",
    "plt.tight_layout()\n",
    "plt.show()"
   ]
  },
  {
   "cell_type": "code",
   "execution_count": null,
   "id": "a4ac62b2",
   "metadata": {},
   "outputs": [],
   "source": [
    "# Fraud rate by transaction type\n",
    "if 'transaction_type' in df.columns:\n",
    "    rate_by_type = df.groupby(\"transaction_type\")[\"is_fraud\"].mean().sort_values()\n",
    "    rate_by_type.plot(kind='barh', color='purple')\n",
    "    plt.title(\"Fraud Rate by Transaction Type\")\n",
    "    plt.xlabel(\"Fraud Rate\")\n",
    "    plt.tight_layout()\n",
    "    plt.show()"
   ]
  },
  {
   "cell_type": "code",
   "execution_count": null,
   "id": "0c4f7eb1",
   "metadata": {},
   "outputs": [],
   "source": [
    "# Optional: Save the fraud stats summary\n",
    "summary = {\n",
    "    \"total\": total,\n",
    "    \"fraud\": fraud,\n",
    "    \"legit\": legit,\n",
    "    \"fraud_pct\": fraud_pct\n",
    "}\n",
    "summary_df = pd.DataFrame([summary])\n",
    "summary_df.to_csv(\"../data/fraud_summary.csv\", index=False)\n",
    "print(\"Saved summary to ../data/fraud_summary.csv\")"
   ]
  }
 ],
 "metadata": {},
 "nbformat": 4,
 "nbformat_minor": 5
}
