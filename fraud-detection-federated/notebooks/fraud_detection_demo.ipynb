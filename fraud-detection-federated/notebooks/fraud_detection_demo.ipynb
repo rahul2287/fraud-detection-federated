{
 "cells": [
  {
   "cell_type": "markdown",
   "id": "6cdcd7ca",
   "metadata": {},
   "source": [
    "# 📊 Federated Fraud Detection Visualization\n",
    "This notebook visualizes fraud distribution using synthetic data."
   ]
  },
  {
   "cell_type": "code",
   "execution_count": null,
   "id": "a5f237c4",
   "metadata": {},
   "outputs": [],
   "source": [
    "import pandas as pd\n",
    "import matplotlib.pyplot as plt\n",
    "\n",
    "# Load dataset\n",
    "df = pd.read_csv(\"../data/synthetic_data.csv\")\n",
    "\n",
    "# Plot fraud distribution\n",
    "plt.figure(figsize=(6, 4))\n",
    "df[\"is_fraud\"].value_counts().plot(kind='bar', color=['green', 'red'])\n",
    "plt.title(\"Fraud vs Legitimate Transactions\")\n",
    "plt.xticks([0, 1], ['Legit', 'Fraud'], rotation=0)\n",
    "plt.ylabel(\"Count\")\n",
    "plt.grid(True)\n",
    "plt.tight_layout()\n",
    "plt.show()"
   ]
  }
 ],
 "metadata": {},
 "nbformat": 4,
 "nbformat_minor": 5
}
