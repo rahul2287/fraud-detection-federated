
{
 "cells": [
  {
   "cell_type": "markdown",
   "metadata": {},
   "source": [
    "# 📊 Federated Fraud Detection Visualization\n",
    "This notebook visualizes fraud distribution and model predictions."
   ]
  },
  {
   "cell_type": "code",
   "execution_count": null,
   "metadata": {},
   "outputs": [],
   "source": [
    "import pandas as pd\n",
    "import matplotlib.pyplot as plt\n",
    "\n",
    "df = pd.read_csv("../data/synthetic_data.csv")\n",
    "plt.figure(figsize=(6,4))\n",
    "df["is_fraud"].value_counts().plot(kind='bar', color=['green', 'red'])\n",
    "plt.title("Fraud vs Legitimate Transactions")\n",
    "plt.xticks([0, 1], ['Legit', 'Fraud'], rotation=0)\n",
    "plt.ylabel("Count")\n",
    "plt.grid(True)\n",
    "plt.tight_layout()\n",
    "plt.show()"
   ]
  }
 ],
 "metadata": {
  "kernelspec": {
   "display_name": "Python 3",
   "language": "python",
   "name": "python3"
  },
  "language_info": {
   "name": "python",
   "version": ""
  }
 },
 "nbformat": 4,
 "nbformat_minor": 2
}
