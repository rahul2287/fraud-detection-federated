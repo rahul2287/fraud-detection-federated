{
 "cells": [
  {
   "cell_type": "code",
   "execution_count": null,
   "id": "e104096f",
   "metadata": {},
   "outputs": [],
   "source": [
    "import pandas as pd\n",
    "import numpy as np\n",
    "import tensorflow as tf\n",
    "import tensorflow_federated as tff\n",
    "import matplotlib.pyplot as plt"
   ]
  },
  {
   "cell_type": "code",
   "execution_count": null,
   "id": "0bf36a9b",
   "metadata": {},
   "outputs": [],
   "source": [
    "# Load and prepare data\n",
    "df = pd.read_csv(\"../data/synthetic_data.csv\")\n",
    "features = ['amount', 'is_international', 'merchant_id']\n",
    "target = 'is_fraud'"
   ]
  },
  {
   "cell_type": "code",
   "execution_count": null,
   "id": "90ccbb7b",
   "metadata": {},
   "outputs": [],
   "source": [
    "X = df[features].values.astype(np.float32)\n",
    "y = df[target].values.astype(np.int32)"
   ]
  },
  {
   "cell_type": "code",
   "execution_count": null,
   "id": "9c8ed28c",
   "metadata": {},
   "outputs": [],
   "source": [
    "# Shuffle and simulate 3 clients\n",
    "def simulate_clients(X, y, num_clients=3):\n",
    "    indices = np.arange(len(X))\n",
    "    np.random.shuffle(indices)\n",
    "    X = X[indices]\n",
    "    y = y[indices]\n",
    "    X_split = np.array_split(X, num_clients)\n",
    "    y_split = np.array_split(y, num_clients)\n",
    "    return [(X_split[i], y_split[i]) for i in range(num_clients)]"
   ]
  },
  {
   "cell_type": "code",
   "execution_count": null,
   "id": "d9370b01",
   "metadata": {},
   "outputs": [],
   "source": [
    "clients_data = simulate_clients(X, y, num_clients=3)"
   ]
  },
  {
   "cell_type": "code",
   "execution_count": null,
   "id": "51887290",
   "metadata": {},
   "outputs": [],
   "source": [
    "def create_tf_dataset(X, y):\n",
    "    return tf.data.Dataset.from_tensor_slices((X, y)).shuffle(buffer_size=10).batch(4)"
   ]
  },
  {
   "cell_type": "code",
   "execution_count": null,
   "id": "3343f25f",
   "metadata": {},
   "outputs": [],
   "source": [
    "federated_train_data = [create_tf_dataset(Xi, yi) for Xi, yi in clients_data]"
   ]
  },
  {
   "cell_type": "code",
   "execution_count": null,
   "id": "d8206b42",
   "metadata": {},
   "outputs": [],
   "source": [
    "# Define the model function\n",
    "def model_fn():\n",
    "    model = tf.keras.Sequential([\n",
    "        tf.keras.layers.Input(shape=(len(features),)),\n",
    "        tf.keras.layers.Dense(8, activation='relu'),\n",
    "        tf.keras.layers.Dense(4, activation='relu'),\n",
    "        tf.keras.layers.Dense(1, activation='sigmoid')\n",
    "    ])\n",
    "    return tff.learning.models.from_keras_model(\n",
    "        keras_model=model,\n",
    "        input_spec=federated_train_data[0].element_spec,\n",
    "        loss=tf.keras.losses.BinaryCrossentropy(),\n",
    "        metrics=[tf.keras.metrics.BinaryAccuracy()]\n",
    "    )"
   ]
  },
  {
   "cell_type": "code",
   "execution_count": null,
   "id": "24d691d8",
   "metadata": {},
   "outputs": [],
   "source": [
    "# Federated training setup\n",
    "fed_avg = tff.learning.algorithms.build_weighted_fed_avg(\n",
    "    model_fn=model_fn,\n",
    "    client_optimizer_fn=lambda: tf.keras.optimizers.Adam(learning_rate=0.01),\n",
    "    server_optimizer_fn=lambda: tf.keras.optimizers.SGD(learning_rate=1.0)\n",
    ")"
   ]
  },
  {
   "cell_type": "code",
   "execution_count": null,
   "id": "5dfe34e3",
   "metadata": {},
   "outputs": [],
   "source": [
    "# Initialize state\n",
    "state = fed_avg.initialize()"
   ]
  },
  {
   "cell_type": "code",
   "execution_count": null,
   "id": "f4985014",
   "metadata": {},
   "outputs": [],
   "source": [
    "# Run training rounds\n",
    "rounds = 10\n",
    "losses, accuracies = [], []"
   ]
  },
  {
   "cell_type": "code",
   "execution_count": null,
   "id": "e99b08ac",
   "metadata": {},
   "outputs": [],
   "source": [
    "for round_num in range(1, rounds + 1):\n",
    "    result = fed_avg.next(state, federated_train_data)\n",
    "    state = result.state\n",
    "    metrics = result.metrics['client_work']['train']\n",
    "    losses.append(metrics['loss'])\n",
    "    accuracies.append(metrics['binary_accuracy'])\n",
    "    print(f\"Round {round_num}: Loss = {metrics['loss']:.4f}, Accuracy = {metrics['binary_accuracy']:.4f}\")"
   ]
  },
  {
   "cell_type": "code",
   "execution_count": null,
   "id": "cfcfcfee",
   "metadata": {},
   "outputs": [],
   "source": [
    "# Plot metrics\n",
    "plt.figure(figsize=(10, 4))\n",
    "plt.subplot(1, 2, 1)\n",
    "plt.plot(range(1, rounds + 1), losses, marker='o')\n",
    "plt.title(\"Federated Training Loss\")\n",
    "plt.xlabel(\"Round\")\n",
    "plt.ylabel(\"Loss\")"
   ]
  },
  {
   "cell_type": "code",
   "execution_count": null,
   "id": "cefdae71",
   "metadata": {},
   "outputs": [],
   "source": [
    "plt.subplot(1, 2, 2)\n",
    "plt.plot(range(1, rounds + 1), accuracies, marker='o', color='green')\n",
    "plt.title(\"Federated Training Accuracy\")\n",
    "plt.xlabel(\"Round\")\n",
    "plt.ylabel(\"Accuracy\")\n",
    "plt.tight_layout()\n",
    "plt.show()"
   ]
  },
  {
   "cell_type": "code",
   "execution_count": null,
   "id": "45d15af1",
   "metadata": {},
   "outputs": [],
   "source": [
    "# Evaluate final model centrally\n",
    "def evaluate_global_model(state, X, y):\n",
    "    keras_model = tf.keras.Sequential([\n",
    "        tf.keras.layers.Input(shape=(len(features),)),\n",
    "        tf.keras.layers.Dense(8, activation='relu'),\n",
    "        tf.keras.layers.Dense(4, activation='relu'),\n",
    "        tf.keras.layers.Dense(1, activation='sigmoid')\n",
    "    ])\n",
    "    tff.learning.models.assign_weights_to_keras_model(keras_model, state.model.trainable)\n",
    "    keras_model.compile(optimizer='adam', loss='binary_crossentropy', metrics=['accuracy'])\n",
    "    results = keras_model.evaluate(X, y, verbose=0)\n",
    "    print(f\"Global Model Evaluation: Loss = {results[0]:.4f}, Accuracy = {results[1]:.4f}\")"
   ]
  },
  {
   "cell_type": "code",
   "execution_count": null,
   "id": "22428d7a",
   "metadata": {},
   "outputs": [],
   "source": [
    "evaluate_global_model(state, X, y)"
   ]
  }
 ],
 "metadata": {},
 "nbformat": 4,
 "nbformat_minor": 5
}
