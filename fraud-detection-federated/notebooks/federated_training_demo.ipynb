{
 "cells": [
  {
   "cell_type": "markdown",
   "id": "f12ed621",
   "metadata": {},
   "source": [
    "# 🤖 Federated Learning: Basic Simulation\n",
    "Simulates federated learning using a simple dataset."
   ]
  },
  {
   "cell_type": "code",
   "execution_count": null,
   "id": "f8fe750f",
   "metadata": {},
   "outputs": [],
   "source": [
    "import pandas as pd\n",
    "import numpy as np\n",
    "import tensorflow as tf\n",
    "import tensorflow_federated as tff\n",
    "\n",
    "# Load data\n",
    "df = pd.read_csv(\"../data/synthetic_data.csv\")\n",
    "X, y = df[['amount']].values.astype(np.float32), df['is_fraud'].values.astype(np.int32)\n",
    "client_1 = (X[:3], y[:3])\n",
    "client_2 = (X[3:], y[3:])\n",
    "\n",
    "def create_tf_dataset(X, y):\n",
    "    return tf.data.Dataset.from_tensor_slices((X, y)).batch(2)\n",
    "\n",
    "train_data = [create_tf_dataset(*client_1), create_tf_dataset(*client_2)]\n",
    "\n",
    "def model_fn():\n",
    "    model = tf.keras.Sequential([\n",
    "        tf.keras.layers.Input(shape=(1,)),\n",
    "        tf.keras.layers.Dense(1, activation='sigmoid')\n",
    "    ])\n",
    "    return tff.learning.models.from_keras_model(\n",
    "        model,\n",
    "        input_spec=train_data[0].element_spec,\n",
    "        loss=tf.keras.losses.BinaryCrossentropy(),\n",
    "        metrics=[tf.keras.metrics.BinaryAccuracy()]\n",
    "    )\n",
    "\n",
    "fed_avg = tff.learning.algorithms.build_weighted_fed_avg(model_fn)\n",
    "state = fed_avg.initialize()\n",
    "for round_num in range(1, 4):\n",
    "    result = fed_avg.next(state, train_data)\n",
    "    state = result.state\n",
    "    print(f\"Round {round_num}: {result.metrics}\")"
   ]
  }
 ],
 "metadata": {},
 "nbformat": 4,
 "nbformat_minor": 5
}
