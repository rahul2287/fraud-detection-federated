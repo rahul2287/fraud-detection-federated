{
 "cells": [
  {
   "cell_type": "code",
   "execution_count": null,
   "id": "f059e2f2",
   "metadata": {},
   "outputs": [],
   "source": [
    "# Fraud Detection Notebook - Enhanced Version"
   ]
  },
  {
   "cell_type": "code",
   "execution_count": null,
   "id": "4429abcf",
   "metadata": {},
   "outputs": [],
   "source": [
    "import pandas as pd\n",
    "import matplotlib.pyplot as plt\n",
    "import seaborn as sns\n",
    "from sklearn.model_selection import train_test_split\n",
    "from sklearn.linear_model import LogisticRegression\n",
    "from sklearn.metrics import classification_report, confusion_matrix, roc_curve, auc\n",
    "from sklearn.preprocessing import StandardScaler\n",
    "import numpy as np"
   ]
  },
  {
   "cell_type": "code",
   "execution_count": null,
   "id": "af1fad68",
   "metadata": {},
   "outputs": [],
   "source": [
    "# Load dataset\n",
    "df = pd.read_csv(\"../data/synthetic_data.csv\")"
   ]
  },
  {
   "cell_type": "code",
   "execution_count": null,
   "id": "50f840d8",
   "metadata": {},
   "outputs": [],
   "source": [
    "# Display basic summary\n",
    "print(\"=== Summary Statistics ===\")\n",
    "print(df.describe(include='all'))\n",
    "print(\"\\nMissing Values:\")\n",
    "print(df.isnull().sum())"
   ]
  },
  {
   "cell_type": "code",
   "execution_count": null,
   "id": "51cf55fc",
   "metadata": {},
   "outputs": [],
   "source": [
    "# Fraud Distribution\n",
    "plt.figure(figsize=(6, 4))\n",
    "df['is_fraud'].value_counts().plot(kind='bar', color=['blue', 'orange'])\n",
    "plt.title(\"Fraud vs Legit Transactions\")\n",
    "plt.xticks([0, 1], ['Legit', 'Fraud'])\n",
    "plt.ylabel(\"Count\")\n",
    "plt.tight_layout()\n",
    "plt.show()"
   ]
  },
  {
   "cell_type": "code",
   "execution_count": null,
   "id": "4b47667c",
   "metadata": {},
   "outputs": [],
   "source": [
    "# Transaction Amount Distribution\n",
    "plt.figure(figsize=(8, 4))\n",
    "sns.histplot(df['amount'], bins=30, kde=True)\n",
    "plt.title(\"Transaction Amount Distribution\")\n",
    "plt.xlabel(\"Amount\")\n",
    "plt.ylabel(\"Frequency\")\n",
    "plt.tight_layout()\n",
    "plt.show()"
   ]
  },
  {
   "cell_type": "code",
   "execution_count": null,
   "id": "3b6869f7",
   "metadata": {},
   "outputs": [],
   "source": [
    "# Fraud Rate by Transaction Type\n",
    "fraud_rate_by_type = df.groupby(\"transaction_type\")[\"is_fraud\"].mean()\n",
    "fraud_rate_by_type.plot(kind='bar', color='purple')\n",
    "plt.title(\"Fraud Rate by Transaction Type\")\n",
    "plt.ylabel(\"Fraud Rate\")\n",
    "plt.show()"
   ]
  },
  {
   "cell_type": "code",
   "execution_count": null,
   "id": "7735246e",
   "metadata": {},
   "outputs": [],
   "source": [
    "# High Risk Locations\n",
    "location_fraud = df.groupby('location')['is_fraud'].mean().sort_values(ascending=False)\n",
    "location_fraud.plot(kind='bar', color='red')\n",
    "plt.title(\"Fraud Rate by Location\")\n",
    "plt.ylabel(\"Fraud Rate\")\n",
    "plt.show()"
   ]
  },
  {
   "cell_type": "code",
   "execution_count": null,
   "id": "9910af96",
   "metadata": {},
   "outputs": [],
   "source": [
    "# Feature Selection\n",
    "features = ['amount', 'is_international', 'merchant_id']\n",
    "target = 'is_fraud'"
   ]
  },
  {
   "cell_type": "code",
   "execution_count": null,
   "id": "a121bd4f",
   "metadata": {},
   "outputs": [],
   "source": [
    "X = df[features]\n",
    "y = df[target]"
   ]
  },
  {
   "cell_type": "code",
   "execution_count": null,
   "id": "2bd3b340",
   "metadata": {},
   "outputs": [],
   "source": [
    "# Normalize features\n",
    "scaler = StandardScaler()\n",
    "X_scaled = scaler.fit_transform(X)"
   ]
  },
  {
   "cell_type": "code",
   "execution_count": null,
   "id": "c0d336b4",
   "metadata": {},
   "outputs": [],
   "source": [
    "# Split data\n",
    "X_train, X_test, y_train, y_test = train_test_split(X_scaled, y, test_size=0.3, random_state=42)"
   ]
  },
  {
   "cell_type": "code",
   "execution_count": null,
   "id": "65a2e801",
   "metadata": {},
   "outputs": [],
   "source": [
    "# Train Logistic Regression\n",
    "model = LogisticRegression()\n",
    "model.fit(X_train, y_train)"
   ]
  },
  {
   "cell_type": "code",
   "execution_count": null,
   "id": "235f16b1",
   "metadata": {},
   "outputs": [],
   "source": [
    "# Predict and evaluate\n",
    "y_pred = model.predict(X_test)\n",
    "print(\"=== Classification Report ===\")\n",
    "print(classification_report(y_test, y_pred))"
   ]
  },
  {
   "cell_type": "code",
   "execution_count": null,
   "id": "10294df3",
   "metadata": {},
   "outputs": [],
   "source": [
    "# Confusion Matrix\n",
    "conf_matrix = confusion_matrix(y_test, y_pred)\n",
    "sns.heatmap(conf_matrix, annot=True, fmt='d', cmap='Blues', xticklabels=['Legit', 'Fraud'], yticklabels=['Legit', 'Fraud'])\n",
    "plt.title(\"Confusion Matrix\")\n",
    "plt.xlabel(\"Predicted\")\n",
    "plt.ylabel(\"Actual\")\n",
    "plt.show()"
   ]
  },
  {
   "cell_type": "code",
   "execution_count": null,
   "id": "04881df4",
   "metadata": {},
   "outputs": [],
   "source": [
    "# ROC Curve\n",
    "y_prob = model.predict_proba(X_test)[:, 1]\n",
    "fpr, tpr, _ = roc_curve(y_test, y_prob)\n",
    "roc_auc = auc(fpr, tpr)"
   ]
  },
  {
   "cell_type": "code",
   "execution_count": null,
   "id": "c306d53a",
   "metadata": {},
   "outputs": [],
   "source": [
    "plt.figure(figsize=(6, 4))\n",
    "plt.plot(fpr, tpr, label=f'ROC Curve (AUC = {roc_auc:.2f})')\n",
    "plt.plot([0, 1], [0, 1], 'k--')\n",
    "plt.xlabel(\"False Positive Rate\")\n",
    "plt.ylabel(\"True Positive Rate\")\n",
    "plt.title(\"ROC Curve\")\n",
    "plt.legend()\n",
    "plt.show()"
   ]
  },
  {
   "cell_type": "code",
   "execution_count": null,
   "id": "3813cb6d",
   "metadata": {},
   "outputs": [],
   "source": [
    "# Daily Transaction Volume\n",
    "df['timestamp'] = pd.to_datetime(df['timestamp'])\n",
    "daily_volume = df.set_index('timestamp').resample('D').size()\n",
    "daily_volume.plot(figsize=(10, 4), title=\"Daily Transaction Volume\")\n",
    "plt.ylabel(\"Transactions\")\n",
    "plt.xlabel(\"Date\")\n",
    "plt.tight_layout()\n",
    "plt.show()"
   ]
  },
  {
   "cell_type": "code",
   "execution_count": null,
   "id": "1ceeb6ef",
   "metadata": {},
   "outputs": [],
   "source": [
    "# Device Type vs Fraud\n",
    "device_fraud = df.groupby(\"device_type\")[\"is_fraud\"].mean()\n",
    "device_fraud.plot(kind='bar', color='orange')\n",
    "plt.title(\"Fraud Rate by Device Type\")\n",
    "plt.ylabel(\"Fraud Rate\")\n",
    "plt.show()"
   ]
  },
  {
   "cell_type": "code",
   "execution_count": null,
   "id": "ba9d4914",
   "metadata": {},
   "outputs": [],
   "source": [
    "# Transactions by Merchant\n",
    "top_merchants = df['merchant_id'].value_counts().head(10)\n",
    "top_merchants.plot(kind='bar', title='Top 10 Merchants by Transaction Count')\n",
    "plt.xlabel(\"Merchant ID\")\n",
    "plt.ylabel(\"Transaction Count\")\n",
    "plt.tight_layout()\n",
    "plt.show()"
   ]
  },
  {
   "cell_type": "code",
   "execution_count": null,
   "id": "2df445b3",
   "metadata": {},
   "outputs": [],
   "source": [
    "# Fraud Transactions Only\n",
    "fraud_df = df[df['is_fraud'] == 1]\n",
    "print(f\"Fraud Transactions: {len(fraud_df)} out of {len(df)}\")\n",
    "print(fraud_df.head())"
   ]
  },
  {
   "cell_type": "code",
   "execution_count": null,
   "id": "96697d7b",
   "metadata": {},
   "outputs": [],
   "source": [
    "# Save processed data\n",
    "df.to_csv(\"../data/processed_data.csv\", index=False)\n",
    "print(\"Processed data saved to ../data/processed_data.csv\")"
   ]
  }
 ],
 "metadata": {},
 "nbformat": 4,
 "nbformat_minor": 5
}
