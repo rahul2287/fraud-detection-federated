import pandas as pd
import matplotlib.pyplot as plt

# Load dataset
df = pd.read_csv("../data/synthetic_data.csv")

# Summary
print(df.describe())

# Fraud distribution
df['is_fraud'].value_counts().plot(kind='bar', color=['blue', 'orange'])
plt.title("Fraud vs Legit Transactions")
plt.xticks([0, 1], ['Legit', 'Fraud'])
plt.show()
