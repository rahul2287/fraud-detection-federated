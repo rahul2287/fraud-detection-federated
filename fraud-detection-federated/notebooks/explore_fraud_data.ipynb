{
 "cells": [
  {
   "cell_type": "markdown",
   "id": "6c7480b1",
   "metadata": {},
   "source": [
    "# 📊 Data Exploration: Fraud Dataset\n",
    "This notebook explores the structure and distribution of synthetic transaction data."
   ]
  },
  {
   "cell_type": "code",
   "execution_count": null,
   "id": "4dac1003",
   "metadata": {},
   "outputs": [],
   "source": [
    "import pandas as pd\n",
    "import matplotlib.pyplot as plt\n",
    "\n",
    "# Load dataset\n",
    "df = pd.read_csv(\"../data/synthetic_data.csv\")\n",
    "\n",
    "# Summary\n",
    "print(df.describe())\n",
    "\n",
    "# Fraud distribution\n",
    "df['is_fraud'].value_counts().plot(kind='bar', color=['blue', 'orange'])\n",
    "plt.title(\"Fraud vs Legit Transactions\")\n",
    "plt.xticks([0, 1], ['Legit', 'Fraud'])\n",
    "plt.show()"
   ]
  }
 ],
 "metadata": {},
 "nbformat": 4,
 "nbformat_minor": 5
}
