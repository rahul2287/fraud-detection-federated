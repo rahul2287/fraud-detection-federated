{
 "cells": [
  {
   "cell_type": "code",
   "execution_count": null,
   "id": "aa3822c7",
   "metadata": {},
   "outputs": [],
   "source": [
    "import numpy as np\n",
    "import pandas as pd\n",
    "import os\n",
    "from tensorflow.keras.models import load_model"
   ]
  },
  {
   "cell_type": "code",
   "execution_count": null,
   "id": "d5b9d107",
   "metadata": {},
   "outputs": [],
   "source": [
    "# Load sample or CSV-based transaction data\n",
    "def load_sample_input(csv_path=None):\n",
    "    if csv_path and os.path.exists(csv_path):\n",
    "        df = pd.read_csv(csv_path)\n",
    "        print(f\"Loaded {len(df)} transactions from CSV.\")\n",
    "        return df.values, df\n",
    "    else:\n",
    "        print(\"Using default sample transactions.\")\n",
    "        sample = np.array([[100.0], [2000.0], [50.0]])\n",
    "        return sample, pd.DataFrame(sample, columns=[\"amount\"])"
   ]
  },
  {
   "cell_type": "code",
   "execution_count": null,
   "id": "5fa04c5f",
   "metadata": {},
   "outputs": [],
   "source": [
    "# Load Keras model\n",
    "def load_keras_model(model_path):\n",
    "    if not os.path.exists(model_path):\n",
    "        raise FileNotFoundError(f\"Model not found: {model_path}\")\n",
    "    model = load_model(model_path)\n",
    "    print(f\"Model loaded from {model_path}\")\n",
    "    return model"
   ]
  },
  {
   "cell_type": "code",
   "execution_count": null,
   "id": "4566ec4b",
   "metadata": {},
   "outputs": [],
   "source": [
    "# Run inference\n",
    "def run_inference(model, X, threshold=0.5):\n",
    "    probs = model.predict(X)\n",
    "    binary_preds = (probs >= threshold).astype(int)\n",
    "    return probs.flatten(), binary_preds.flatten()"
   ]
  },
  {
   "cell_type": "code",
   "execution_count": null,
   "id": "4104096b",
   "metadata": {},
   "outputs": [],
   "source": [
    "# Display results\n",
    "def display_results(X_df, probs, preds):\n",
    "    X_df['fraud_probability'] = probs\n",
    "    X_df['prediction'] = preds\n",
    "    X_df['classification'] = X_df['prediction'].map({0: 'Legit', 1: 'Fraud'})"
   ]
  },
  {
   "cell_type": "code",
   "execution_count": null,
   "id": "7ea31a57",
   "metadata": {},
   "outputs": [],
   "source": [
    "print(\"\\n=== Inference Results ===\")\n",
    "    for idx, row in X_df.iterrows():\n",
    "        print(f\"Amount: ${row.iloc[0]:.2f} → Fraud Probability: {row.fraud_probability:.4f} → Predicted: {row.classification}\")"
   ]
  },
  {
   "cell_type": "code",
   "execution_count": null,
   "id": "de2aee1f",
   "metadata": {},
   "outputs": [],
   "source": [
    "return X_df"
   ]
  },
  {
   "cell_type": "code",
   "execution_count": null,
   "id": "fb7a3a19",
   "metadata": {},
   "outputs": [],
   "source": [
    "# Save predictions\n",
    "def save_results(df, output_path=\"predictions.csv\"):\n",
    "    df.to_csv(output_path, index=False)\n",
    "    print(f\"\\nSaved predictions to {output_path}\")"
   ]
  },
  {
   "cell_type": "code",
   "execution_count": null,
   "id": "13cf60d4",
   "metadata": {},
   "outputs": [],
   "source": [
    "# Execute\n",
    "model_path = \"../models/simple_model.h5\"\n",
    "X, df_input = load_sample_input()\n",
    "model = load_keras_model(model_path)\n",
    "probs, preds = run_inference(model, X)\n",
    "results_df = display_results(df_input, probs, preds)\n",
    "save_results(results_df)"
   ]
  }
 ],
 "metadata": {},
 "nbformat": 4,
 "nbformat_minor": 5
}
