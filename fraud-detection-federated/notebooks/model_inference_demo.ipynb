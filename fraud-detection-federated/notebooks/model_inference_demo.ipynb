{
 "cells": [
  {
   "cell_type": "markdown",
   "id": "910910ff",
   "metadata": {},
   "source": [
    "# 🔍 Model Inference\n",
    "Run predictions on new transactions using a trained model."
   ]
  },
  {
   "cell_type": "code",
   "execution_count": null,
   "id": "aeca701b",
   "metadata": {},
   "outputs": [],
   "source": [
    "import numpy as np\n",
    "from tensorflow.keras.models import load_model\n",
    "\n",
    "# Load model\n",
    "model = load_model(\"../models/simple_model.h5\")\n",
    "\n",
    "# Predict new transactions\n",
    "transactions = np.array([[100.0], [2000.0], [50.0]])\n",
    "predictions = model.predict(transactions)\n",
    "for amount, prob in zip(transactions, predictions):\n",
    "    print(f\"Amount: ${amount[0]:.2f} → Fraud Probability: {prob[0]:.4f}\")"
   ]
  }
 ],
 "metadata": {},
 "nbformat": 4,
 "nbformat_minor": 5
}
