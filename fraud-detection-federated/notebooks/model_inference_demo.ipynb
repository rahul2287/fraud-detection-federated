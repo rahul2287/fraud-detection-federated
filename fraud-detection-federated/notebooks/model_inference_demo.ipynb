"""
Enhanced Model Inference Script for Fraud Detection
"""

import numpy as np
import pandas as pd
import argparse
import os
from tensorflow.keras.models import load_model

def load_sample_input(csv_path=None):
    """
    Loads transaction data either from a CSV file or uses predefined samples.
    """
    if csv_path and os.path.exists(csv_path):
        df = pd.read_csv(csv_path)
        print(f"Loaded {len(df)} transactions from CSV.")
        return df.values, df
    else:
        print("Using default sample transactions.")
        sample = np.array([[100.0], [2000.0], [50.0]])
        return sample, pd.DataFrame(sample, columns=["amount"])

def load_keras_model(model_path):
    """
    Loads a pre-trained Keras model from disk.
    """
    if not os.path.exists(model_path):
        raise FileNotFoundError(f"Model not found: {model_path}")
    model = load_model(model_path)
    print(f"Model loaded from {model_path}")
    return model

def run_inference(model, X, threshold=0.5):
    """
    Performs prediction and returns probabilities and binary classification.
    """
    probs = model.predict(X)
    binary_preds = (probs >= threshold).astype(int)
    return probs.flatten(), binary_preds.flatten()

def display_results(X_df, probs, preds):
    """
    Displays prediction results in a formatted table.
    """
    X_df['fraud_probability'] = probs
    X_df['prediction'] = preds
    X_df['classification'] = X_df['prediction'].map({0: 'Legit', 1: 'Fraud'})

    print("\n=== Inference Results ===")
    for idx, row in X_df.iterrows():
        print(f"Amount: ${row.iloc[0]:.2f} → Fraud Probability: {row.fraud_probability:.4f} → Predicted: {row.classification}")

    return X_df

def save_results(df, output_path):
    """
    Saves inference results to a CSV file.
    """
    df.to_csv(output_path, index=False)
    print(f"\nSaved predictions to {output_path}")

def main():
    parser = argparse.ArgumentParser(description="Run fraud prediction inference.")
    parser.add_argument("--model", type=str, default="../models/simple_model.h5", help="Path to the trained model file")
    parser.add_argument("--input", type=str, help="Path to input CSV file")
    parser.add_argument("--output", type=str, default="predictions.csv", help="Path to save predictions")
    parser.add_argument("--threshold", type=float, default=0.5, help="Threshold for classification")

    args = parser.parse_args()

    X, df_input = load_sample_input(args.input)
    model = load_keras_model(args.model)
    probs, preds = run_inference(model, X, threshold=args.threshold)
    results_df = display_results(df_input, probs, preds)
    save_results(results_df, args.output)

if __name__ == "__main__":
    main()
